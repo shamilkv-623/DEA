{
  "nbformat": 4,
  "nbformat_minor": 0,
  "metadata": {
    "colab": {
      "provenance": [],
      "authorship_tag": "ABX9TyOdPCXHooUHiSeAlrz35Xco",
      "include_colab_link": true
    },
    "kernelspec": {
      "name": "python3",
      "display_name": "Python 3"
    },
    "language_info": {
      "name": "python"
    }
  },
  "cells": [
    {
      "cell_type": "markdown",
      "metadata": {
        "id": "view-in-github",
        "colab_type": "text"
      },
      "source": [
        "<a href=\"https://colab.research.google.com/github/shamilkv-623/DEA/blob/main/DEA.ipynb\" target=\"_parent\"><img src=\"https://colab.research.google.com/assets/colab-badge.svg\" alt=\"Open In Colab\"/></a>"
      ]
    },
    {
      "cell_type": "code",
      "source": [
        "import pandas as pd\n",
        "\n",
        "# Define the hypothetical dataset\n",
        "data = {\n",
        "    'Branch': ['A', 'B', 'C', 'D', 'E'],\n",
        "    'Doctors': [15, 10, 12, 18, 14],               # Input 1\n",
        "    'Operating Expenses ($1000)': [120, 100, 110, 150, 130],  # Input 2\n",
        "    'Patients Treated': [500, 300, 400, 600, 450],  # Output 1\n",
        "    'Satisfaction Score': [90, 85, 88, 92, 89]      # Output 2\n",
        "}\n",
        "\n",
        "# Create a DataFrame\n",
        "df = pd.DataFrame(data)\n",
        "\n",
        "# Prepare the input and output arrays\n",
        "inputs = df[['Doctors', 'Operating Expenses ($1000)']].values\n",
        "outputs = df[['Patients Treated', 'Satisfaction Score']].values\n"
      ],
      "metadata": {
        "id": "_Mr8tEyzDTYq"
      },
      "execution_count": 44,
      "outputs": []
    },
    {
      "cell_type": "code",
      "source": [
        "inputs.shape"
      ],
      "metadata": {
        "colab": {
          "base_uri": "https://localhost:8080/"
        },
        "id": "tIhJ133rFKUz",
        "outputId": "aef22fbc-a3c8-4410-d669-6466927968be"
      },
      "execution_count": 45,
      "outputs": [
        {
          "output_type": "execute_result",
          "data": {
            "text/plain": [
              "(5, 2)"
            ]
          },
          "metadata": {},
          "execution_count": 45
        }
      ]
    },
    {
      "cell_type": "code",
      "source": [
        "from scipy.optimize import linprog\n",
        "import numpy as np\n",
        "\n",
        "def dea_analysis(inputs, outputs):\n",
        "    num_dmus = inputs.shape[0]\n",
        "    efficiency_scores = []\n",
        "\n",
        "    for i in range(num_dmus):\n",
        "        # Objective function: Minimize theta (efficiency)\n",
        "        c = [1] + [0] * num_dmus\n",
        "\n",
        "        # Constraints\n",
        "        A_eq = [[0] * (1 + num_dmus) for _ in range(1)]  # Normalization constraint\n",
        "        b_eq = [1]  # Ensure sum of lambdas = 1\n",
        "\n",
        "        A_ub = []\n",
        "        b_ub = []\n",
        "\n",
        "        # Input constraints\n",
        "        for k in range(inputs.shape[1]):\n",
        "            constraint = [0] * (1 + num_dmus)\n",
        "            constraint[0] = inputs[i, k]  # theta * input[i]\n",
        "            for j in range(num_dmus):\n",
        "                constraint[j + 1] = -inputs[j, k]  # -lambda[j] * input[j]\n",
        "            A_ub.append(constraint)\n",
        "            b_ub.append(0)\n",
        "\n",
        "        # Output constraints\n",
        "        for k in range(outputs.shape[1]):\n",
        "            constraint = [0] * (1 + num_dmus)\n",
        "            constraint[0] = -outputs[i, k]  # -theta * output[i]\n",
        "            for j in range(num_dmus):\n",
        "                constraint[j + 1] = outputs[j, k]  # lambda[j] * output[j]\n",
        "            A_ub.append(constraint)\n",
        "            b_ub.append(0)\n",
        "\n",
        "        # Add normalization constraint\n",
        "        for j in range(num_dmus):\n",
        "            A_eq[0][j + 1] = 1\n",
        "\n",
        "        # Bounds for theta and lambdas\n",
        "        bounds = [(0, None)] + [(0, None)] * num_dmus\n",
        "\n",
        "        # Solve the linear program\n",
        "        result = linprog(c, A_eq=np.array(A_eq), b_eq=np.array(b_eq),\n",
        "                         A_ub=np.array(A_ub), b_ub=np.array(b_ub),\n",
        "                         bounds=bounds, method='highs')\n",
        "\n",
        "        if result.success:\n",
        "            efficiency_scores.append(result.x[0])  # Efficiency = theta\n",
        "        else:\n",
        "            print(f\"Solver failed for DMU {i}: {result.message}\")\n",
        "            efficiency_scores.append(None)\n",
        "\n",
        "    return efficiency_scores\n"
      ],
      "metadata": {
        "id": "UmTkJcL4Hmsl"
      },
      "execution_count": 47,
      "outputs": []
    },
    {
      "cell_type": "code",
      "source": [
        "# Calculate efficiency scores\n",
        "efficiency_scores = dea_analysis(inputs, outputs)\n",
        "\n",
        "# Add efficiency scores to the DataFrame\n",
        "df['Efficiency'] = efficiency_scores\n",
        "\n",
        "# Display the DataFrame with efficiency scores\n",
        "print(df)\n"
      ],
      "metadata": {
        "colab": {
          "base_uri": "https://localhost:8080/"
        },
        "id": "-aIOecP9IJZb",
        "outputId": "80227f3b-4087-4937-daf3-e3a6d82c3560"
      },
      "execution_count": 48,
      "outputs": [
        {
          "output_type": "stream",
          "name": "stdout",
          "text": [
            "  Branch  Doctors  Operating Expenses ($1000)  Patients Treated  \\\n",
            "0      A       15                         120               500   \n",
            "1      B       10                         100               300   \n",
            "2      C       12                         110               400   \n",
            "3      D       18                         150               600   \n",
            "4      E       14                         130               450   \n",
            "\n",
            "   Satisfaction Score  Efficiency  \n",
            "0                  90    0.991870  \n",
            "1                  85    1.000000  \n",
            "2                  88    0.983871  \n",
            "3                  92    1.000000  \n",
            "4                  89    1.000000  \n"
          ]
        }
      ]
    },
    {
      "cell_type": "code",
      "source": [],
      "metadata": {
        "id": "9VLbUbZ0FDzs"
      },
      "execution_count": 48,
      "outputs": []
    }
  ]
}